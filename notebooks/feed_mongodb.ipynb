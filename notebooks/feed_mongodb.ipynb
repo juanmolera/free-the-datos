{
 "cells": [
  {
   "attachments": {},
   "cell_type": "markdown",
   "metadata": {},
   "source": [
    "# Feed MondoDB"
   ]
  },
  {
   "cell_type": "code",
   "execution_count": 1,
   "metadata": {},
   "outputs": [],
   "source": [
    "import pandas as pd\n",
    "import pymongo"
   ]
  },
  {
   "cell_type": "code",
   "execution_count": 2,
   "metadata": {},
   "outputs": [],
   "source": [
    "# Reads csvs\n",
    "df_supermarket = pd.read_csv('../data/supermarket/dia.csv', index_col = 0)\n",
    "df_delivery = pd.read_csv('../data/delivery/mcdonalds.csv', index_col = 0)\n",
    "df_realstate = pd.read_csv('../data/real_state/tecnocasa.csv', index_col = 0)"
   ]
  },
  {
   "cell_type": "code",
   "execution_count": 3,
   "metadata": {},
   "outputs": [],
   "source": [
    "# MongoDB connection\n",
    "client = pymongo.MongoClient('mongodb://localhost:27017/')"
   ]
  },
  {
   "cell_type": "code",
   "execution_count": 4,
   "metadata": {},
   "outputs": [
    {
     "data": {
      "text/plain": [
       "<pymongo.results.InsertManyResult at 0x7f8c8c6c6e00>"
      ]
     },
     "execution_count": 4,
     "metadata": {},
     "output_type": "execute_result"
    }
   ],
   "source": [
    "# Dia supermarket\n",
    "# Creates DB\n",
    "db_super = client['supermarket']\n",
    "\n",
    "# Creates collection\n",
    "coll_dia = db_super['dia']\n",
    "\n",
    "# df to dict\n",
    "dict_super = df_supermarket.to_dict(orient='records')\n",
    "\n",
    "# Inserts\n",
    "coll_dia.insert_many(dict_super)\n",
    "\n",
    "# Same process for all dbs"
   ]
  },
  {
   "cell_type": "code",
   "execution_count": 5,
   "metadata": {},
   "outputs": [
    {
     "data": {
      "text/plain": [
       "<pymongo.results.InsertManyResult at 0x7f8c8b7cbb80>"
      ]
     },
     "execution_count": 5,
     "metadata": {},
     "output_type": "execute_result"
    }
   ],
   "source": [
    "# Mcdonalds glovo\n",
    "db_delivery = client['delivery']\n",
    "coll_mcdonalds = db_delivery['mcdonalds']\n",
    "\n",
    "dict_delivery = df_delivery.to_dict(orient='records')\n",
    "\n",
    "coll_mcdonalds.insert_many(dict_delivery)"
   ]
  },
  {
   "cell_type": "code",
   "execution_count": 6,
   "metadata": {},
   "outputs": [
    {
     "data": {
      "text/plain": [
       "<pymongo.results.InsertManyResult at 0x7f8c8c3dffd0>"
      ]
     },
     "execution_count": 6,
     "metadata": {},
     "output_type": "execute_result"
    }
   ],
   "source": [
    "# Tecnocasa\n",
    "db_realstate = client['real_state']\n",
    "coll_tecnocasa = db_realstate['tecnocasa']\n",
    "\n",
    "dict_realstate = df_realstate.to_dict(orient='records')\n",
    "\n",
    "coll_tecnocasa.insert_many(dict_realstate)"
   ]
  }
 ],
 "metadata": {
  "kernelspec": {
   "display_name": "final-project",
   "language": "python",
   "name": "python3"
  },
  "language_info": {
   "codemirror_mode": {
    "name": "ipython",
    "version": 3
   },
   "file_extension": ".py",
   "mimetype": "text/x-python",
   "name": "python",
   "nbconvert_exporter": "python",
   "pygments_lexer": "ipython3",
   "version": "3.10.9"
  },
  "orig_nbformat": 4
 },
 "nbformat": 4,
 "nbformat_minor": 2
}
